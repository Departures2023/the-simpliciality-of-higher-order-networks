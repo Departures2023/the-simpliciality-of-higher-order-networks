{
 "cells": [
  {
   "cell_type": "code",
   "execution_count": 10,
   "id": "b73878da",
   "metadata": {},
   "outputs": [],
   "source": [
    "# import matplotlib.pyplot as plt\n",
    "# import numpy as np\n",
    "# import seaborn as sns\n",
    "import xgi\n",
    "# from matplotlib import cm\n",
    "# from draw import *\n",
    "from sod import *\n",
    "from sod.simpliciality import edit_simpliciality"
   ]
  },
  {
   "cell_type": "code",
   "execution_count": 11,
   "id": "d4692896",
   "metadata": {},
   "outputs": [
    {
     "name": "stdout",
     "output_type": "stream",
     "text": [
      "0.3960682278115062\n",
      "42\n",
      "(1, 6, 9, 10, 11)\n",
      "57\n",
      "2\n",
      "631\n",
      "637\n",
      "1106\n",
      "1426\n",
      "1134\n",
      "1429\n",
      "1430\n",
      "1432\n",
      "331\n",
      "580\n",
      "1389\n",
      "1\n",
      "649\n",
      "0\n",
      "1427\n",
      "578\n",
      "17\n",
      "17\n",
      "17\n",
      "0.3975623911781776\n"
     ]
    }
   ],
   "source": [
    "from sod.simpliciality import edge_rewiring\n",
    "\n",
    "\n",
    "dataset = \"email-enron\"\n",
    "max_order = 5\n",
    "min_size = 2\n",
    "\n",
    "H = xgi.load_xgi_data(dataset, max_order=max_order)\n",
    "H.cleanup(singletons=True)\n",
    "\n",
    "es = edit_simpliciality(H, min_size=min_size)\n",
    "#fes = face_edit_simpliciality(H, min_size=min_size)\n",
    "#sf = simplicial_fraction(H, min_size=min_size)\n",
    "print(es)\n",
    "\n",
    "H = edge_rewiring.non_simplex_maximal_edges(H, min_size=min_size)\n",
    "# H.cleanup(singletons=True)\n",
    "\n",
    "es = edit_simpliciality(H, min_size=min_size)\n",
    "# fes = face_edit_simpliciality(H, min_size=min_size)\n",
    "# sf = simplicial_fraction(H, min_size=min_size)\n",
    "print(es)"
   ]
  },
  {
   "cell_type": "code",
   "execution_count": null,
   "id": "5ffc7961",
   "metadata": {},
   "outputs": [],
   "source": []
  }
 ],
 "metadata": {
  "kernelspec": {
   "display_name": "Python 3",
   "language": "python",
   "name": "python3"
  },
  "language_info": {
   "codemirror_mode": {
    "name": "ipython",
    "version": 3
   },
   "file_extension": ".py",
   "mimetype": "text/x-python",
   "name": "python",
   "nbconvert_exporter": "python",
   "pygments_lexer": "ipython3",
   "version": "3.11.9"
  }
 },
 "nbformat": 4,
 "nbformat_minor": 5
}
