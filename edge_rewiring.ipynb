{
 "cells": [
  {
   "cell_type": "code",
   "execution_count": 5,
   "id": "b73878da",
   "metadata": {},
   "outputs": [],
   "source": [
    "# import matplotlib.pyplot as plt\n",
    "# import numpy as np\n",
    "# import seaborn as sns\n",
    "import xgi\n",
    "# from matplotlib import cm\n",
    "# from draw import *\n",
    "from sod import *\n",
    "from sod.simpliciality import edit_simpliciality"
   ]
  },
  {
   "cell_type": "code",
   "execution_count": null,
   "id": "d4692896",
   "metadata": {},
   "outputs": [
    {
     "name": "stdout",
     "output_type": "stream",
     "text": [
      "0.9175213057922866 0.9372632240822959\n",
      "max to rewire: 1\n",
      "Actual rewired number: 0\n",
      "[]\n",
      "[]\n",
      "0.9175213057922866 0.9372632240822959\n",
      "0.9270722162931341 0.9230435574995609\n",
      "max to rewire: 1\n",
      "Actual rewired number: 0\n",
      "[]\n",
      "[]\n",
      "0.9270722162931341 0.9230435574995609\n",
      "0.9544740973312402 0.9718947368421075\n",
      "max to rewire: 1\n",
      "Actual rewired number: 0\n",
      "[]\n",
      "[]\n",
      "0.9544740973312402 0.9718947368421075\n",
      "0.172 0.5314024200466085\n",
      "max to rewire: 17\n",
      "Actual rewired number: 16\n",
      "[{10, 4}, {8, 1, 10, 4}, {8, 1, 5}, {1, 10, 4, 5}, {8, 10, 5}, {1, 4, 5, 8, 10}, {8, 1, 4, 5}, {1, 5, 8, 9, 10}, {8, 10, 4}, {9, 4}, {8, 1, 4}, {8, 1, 4, 9}, {1, 10, 4}, {8, 1, 5, 9}, {8, 4, 5}, {1, 10, 5, 9}]\n",
      "[{1, 10, 5}, {1, 4}, {1, 9}, {4, 5}, {1, 4, 5, 9}, {9, 10, 4, 5}, {8, 10}, {8, 1}, {1, 5}, {1, 4, 5}, {10, 5}, {8, 1, 9}, {8, 5}, {1, 5, 9}, {1, 10}, {9, 5}]\n",
      "0.172 0.5259570715251736\n",
      "0.17535415703425222 0.5646649332198483\n",
      "max to rewire: 25\n",
      "Actual rewired number: 23\n",
      "[{41, 51, 87}, {42, 51, 93}, {93, 85, 94, 87}, {51, 85, 87, 41, 42, 94}, {41, 42, 85, 94}, {85, 87, 93, 94, 95}, {85, 41, 42, 94, 95}, {85, 87, 42, 94, 95}, {51, 87, 41, 42, 94}, {42, 85, 94, 87}, {42, 51, 93, 94}, {51, 85, 87, 41, 93, 94}, {51, 42, 93, 94, 95}, {51, 87, 41, 94, 95}, {42, 51, 85}, {41, 42, 51, 95}, {51, 85, 87, 93, 95}, {51, 93, 85, 87}, {41, 51, 93, 85}, {42, 51, 85, 87}, {51, 85, 41, 93, 95}, {51, 85, 87, 42, 95}, {51, 85, 41, 42, 93}]\n",
      "[{85, 87, 41, 42, 93}, {93, 95}, {42, 94}, {51, 85}, {41, 87}, {41, 42}, {42, 93}, {94, 95}, {42, 87}, {51, 94}, {87, 41, 42, 93, 95}, {41, 42, 87}, {51, 85, 87, 41, 42, 93}, {42, 85, 87}, {42, 95}, {85, 87, 41, 42, 93, 95}, {51, 94, 95}, {42, 85}, {51, 85, 87, 42, 93}, {51, 85, 87, 41, 42, 93, 95}, {42, 51}, {41, 42, 85}, {51, 95}]\n",
      "0.17535415703425222 0.5641602282965285\n",
      "0.11115326251896814 0.04426849389939738\n",
      "max to rewire: 0\n",
      "Actual rewired number: 0\n",
      "[]\n",
      "[]\n",
      "0.11115326251896814 0.04426849389939738\n",
      "0.023783985449797138 0.011370935859452569\n",
      "max to rewire: 1\n",
      "Actual rewired number: 0\n",
      "[]\n",
      "[]\n",
      "0.023783985449797138 0.011370935859452569\n"
     ]
    }
   ],
   "source": [
    "from sod.simpliciality import edge_rewiring\n",
    "\n",
    "\n",
    "datasets = [\n",
    "    \"hospital-lyon\",\n",
    "    \"email-enron\",\n",
    "    \"email-eu\",\n",
    "    \"diseasome\",\n",
    "    \"disgenenet\",\n",
    "    \"congress-bills\",\n",
    "    \"tags-ask-ubuntu\"\n",
    "]\n",
    "max_order = 7\n",
    "min_size = 2\n",
    "for i in range(7):\n",
    "\tH = xgi.load_xgi_data(datasets[i], max_order=max_order)\n",
    "\tH.cleanup(singletons=True)\n",
    "\n",
    "\tes = edit_simpliciality(H, min_size=min_size)\n",
    "\tfes = face_edit_simpliciality(H, min_size=min_size)\n",
    "\t#sf = simplicial_fraction(H, min_size=min_size)\n",
    "\tprint(es, fes)\n",
    "\n",
    "\tH = edge_rewiring.rewire_Alg1(H, min_size, max_order)\n",
    "\tH.cleanup(singletons=True)\n",
    "\n",
    "\tes = edit_simpliciality(H, min_size=min_size)\n",
    "\tfes = face_edit_simpliciality(H, min_size=min_size)\n",
    "\t# sf = simplicial_fraction(H, min_size=min_size)\n",
    "\tprint(es, fes)"
   ]
  },
  {
   "cell_type": "code",
   "execution_count": null,
   "id": "5ffc7961",
   "metadata": {},
   "outputs": [],
   "source": []
  }
 ],
 "metadata": {
  "kernelspec": {
   "display_name": ".conda",
   "language": "python",
   "name": "python3"
  },
  "language_info": {
   "codemirror_mode": {
    "name": "ipython",
    "version": 3
   },
   "file_extension": ".py",
   "mimetype": "text/x-python",
   "name": "python",
   "nbconvert_exporter": "python",
   "pygments_lexer": "ipython3",
   "version": "3.12.9"
  }
 },
 "nbformat": 4,
 "nbformat_minor": 5
}
