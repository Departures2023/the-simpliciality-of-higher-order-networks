{
 "cells": [
  {
   "cell_type": "code",
   "execution_count": 13,
   "id": "b73878da",
   "metadata": {},
   "outputs": [],
   "source": [
    "# import matplotlib.pyplot as plt\n",
    "# import numpy as np\n",
    "# import seaborn as sns\n",
    "import xgi\n",
    "# from matplotlib import cm\n",
    "# from draw import *\n",
    "from sod import *\n",
    "from sod.simpliciality import edit_simpliciality"
   ]
  },
  {
   "cell_type": "code",
   "execution_count": 14,
   "id": "d4692896",
   "metadata": {},
   "outputs": [
    {
     "name": "stdout",
     "output_type": "stream",
     "text": [
      "max to rewire: 1\n",
      "Actual rewired number: 0\n",
      "[]\n",
      "[]\n",
      "0.0 0.0\n",
      "max to rewire: 17\n",
      "Actual rewired number: 16\n",
      "[{10, 4}, {8, 1, 10, 4}, {8, 1, 5}, {1, 10, 4, 5}, {8, 10, 5}, {1, 4, 5, 8, 10}, {8, 1, 4, 5}, {1, 5, 8, 9, 10}, {8, 10, 4}, {9, 4}, {8, 1, 4}, {8, 1, 4, 9}, {1, 10, 4}, {8, 1, 5, 9}, {8, 4, 5}, {1, 10, 5, 9}]\n",
      "[{1, 10, 5}, {1, 4}, {1, 9}, {4, 5}, {1, 4, 5, 9}, {9, 10, 4, 5}, {8, 10}, {8, 1}, {1, 5}, {1, 4, 5}, {10, 5}, {8, 1, 9}, {8, 5}, {1, 5, 9}, {1, 10}, {9, 5}]\n",
      "0.0 0.005445348521434967\n",
      "max to rewire: 25\n",
      "Actual rewired number: 23\n",
      "[{41, 51, 87}, {42, 51, 93}, {93, 85, 94, 87}, {51, 85, 87, 41, 42, 94}, {41, 42, 85, 94}, {85, 87, 93, 94, 95}, {85, 41, 42, 94, 95}, {85, 87, 42, 94, 95}, {51, 87, 41, 42, 94}, {42, 85, 94, 87}, {42, 51, 93, 94}, {51, 85, 87, 41, 93, 94}, {51, 42, 93, 94, 95}, {51, 87, 41, 94, 95}, {42, 51, 85}, {41, 42, 51, 95}, {51, 85, 87, 93, 95}, {51, 93, 85, 87}, {41, 51, 93, 85}, {42, 51, 85, 87}, {51, 85, 41, 93, 95}, {51, 85, 87, 42, 95}, {51, 85, 41, 42, 93}]\n",
      "[{85, 87, 41, 42, 93}, {93, 95}, {42, 94}, {51, 85}, {41, 87}, {41, 42}, {42, 93}, {94, 95}, {42, 87}, {51, 94}, {87, 41, 42, 93, 95}, {41, 42, 87}, {51, 85, 87, 41, 42, 93}, {42, 85, 87}, {42, 95}, {85, 87, 41, 42, 93, 95}, {51, 94, 95}, {42, 85}, {51, 85, 87, 42, 93}, {51, 85, 87, 41, 42, 93, 95}, {42, 51}, {41, 42, 85}, {51, 95}]\n",
      "0.0 0.0005047049233198875\n"
     ]
    },
    {
     "ename": "KeyboardInterrupt",
     "evalue": "",
     "output_type": "error",
     "traceback": [
      "\u001b[31m---------------------------------------------------------------------------\u001b[39m",
      "\u001b[31mKeyboardInterrupt\u001b[39m                         Traceback (most recent call last)",
      "\u001b[36mCell\u001b[39m\u001b[36m \u001b[39m\u001b[32mIn[14]\u001b[39m\u001b[32m, line 14\u001b[39m\n\u001b[32m     12\u001b[39m \u001b[38;5;28;01mfor\u001b[39;00m i \u001b[38;5;129;01min\u001b[39;00m \u001b[38;5;28mrange\u001b[39m(\u001b[32m4\u001b[39m):\n\u001b[32m     13\u001b[39m \tH = xgi.load_xgi_data(datasets[i], max_order=max_order)\n\u001b[32m---> \u001b[39m\u001b[32m14\u001b[39m \tH.cleanup(singletons=\u001b[38;5;28;01mTrue\u001b[39;00m)\n\u001b[32m     16\u001b[39m \tes_init = edit_simpliciality(H, min_size=min_size)\n\u001b[32m     17\u001b[39m \tfes_init = face_edit_simpliciality(H, min_size=min_size)\n",
      "\u001b[36mFile \u001b[39m\u001b[32mc:\\Users\\AnnaSennpai\\Desktop\\Grinnell\\Second Year Summer\\MAP\\the-simpliciality-of-higher-order-networks\\.conda\\Lib\\site-packages\\xgi\\core\\hypergraph.py:1488\u001b[39m, in \u001b[36mHypergraph.cleanup\u001b[39m\u001b[34m(self, isolates, singletons, multiedges, connected, relabel, in_place)\u001b[39m\n\u001b[32m   1485\u001b[39m \u001b[38;5;28;01mif\u001b[39;00m relabel:\n\u001b[32m   1486\u001b[39m     \u001b[38;5;28;01mfrom\u001b[39;00m\u001b[38;5;250m \u001b[39m\u001b[34;01m.\u001b[39;00m\u001b[34;01m.\u001b[39;00m\u001b[34;01mutils\u001b[39;00m\u001b[38;5;250m \u001b[39m\u001b[38;5;28;01mimport\u001b[39;00m convert_labels_to_integers\n\u001b[32m-> \u001b[39m\u001b[32m1488\u001b[39m     convert_labels_to_integers(_H, in_place=\u001b[38;5;28;01mTrue\u001b[39;00m)\n\u001b[32m   1490\u001b[39m \u001b[38;5;28;01mreturn\u001b[39;00m _H\n",
      "\u001b[36mFile \u001b[39m\u001b[32mc:\\Users\\AnnaSennpai\\Desktop\\Grinnell\\Second Year Summer\\MAP\\the-simpliciality-of-higher-order-networks\\.conda\\Lib\\site-packages\\xgi\\utils\\utilities.py:427\u001b[39m, in \u001b[36mconvert_labels_to_integers\u001b[39m\u001b[34m(net, label_attribute, in_place)\u001b[39m\n\u001b[32m    418\u001b[39m     net.add_simplices_from(\n\u001b[32m    419\u001b[39m         (\n\u001b[32m    420\u001b[39m             {node_dict[n] \u001b[38;5;28;01mfor\u001b[39;00m n \u001b[38;5;129;01min\u001b[39;00m edge},\n\u001b[32m   (...)\u001b[39m\u001b[32m    424\u001b[39m         \u001b[38;5;28;01mfor\u001b[39;00m e, edge \u001b[38;5;129;01min\u001b[39;00m edges.items()\n\u001b[32m    425\u001b[39m     )\n\u001b[32m    426\u001b[39m \u001b[38;5;28;01melif\u001b[39;00m \u001b[38;5;28misinstance\u001b[39m(net, Hypergraph):\n\u001b[32m--> \u001b[39m\u001b[32m427\u001b[39m     net.add_edges_from(\n\u001b[32m    428\u001b[39m         (\n\u001b[32m    429\u001b[39m             {node_dict[n] \u001b[38;5;28;01mfor\u001b[39;00m n \u001b[38;5;129;01min\u001b[39;00m edge},\n\u001b[32m    430\u001b[39m             edge_dict[e],\n\u001b[32m    431\u001b[39m             deepcopy(edge_attrs[e]),\n\u001b[32m    432\u001b[39m         )\n\u001b[32m    433\u001b[39m         \u001b[38;5;28;01mfor\u001b[39;00m e, edge \u001b[38;5;129;01min\u001b[39;00m edges.items()\n\u001b[32m    434\u001b[39m     )\n\u001b[32m    435\u001b[39m \u001b[38;5;28;01melif\u001b[39;00m \u001b[38;5;28misinstance\u001b[39m(net, DiHypergraph):\n\u001b[32m    436\u001b[39m     net.add_edges_from(\n\u001b[32m    437\u001b[39m         (\n\u001b[32m    438\u001b[39m             [\n\u001b[32m   (...)\u001b[39m\u001b[32m    445\u001b[39m         \u001b[38;5;28;01mfor\u001b[39;00m e, edge \u001b[38;5;129;01min\u001b[39;00m edges.items()\n\u001b[32m    446\u001b[39m     )\n",
      "\u001b[36mFile \u001b[39m\u001b[32mc:\\Users\\AnnaSennpai\\Desktop\\Grinnell\\Second Year Summer\\MAP\\the-simpliciality-of-higher-order-networks\\.conda\\Lib\\site-packages\\xgi\\core\\hypergraph.py:792\u001b[39m, in \u001b[36mHypergraph.add_edges_from\u001b[39m\u001b[34m(self, ebunch_to_add, **attr)\u001b[39m\n\u001b[32m    789\u001b[39m     \u001b[38;5;28mself\u001b[39m._edge_attr[idx].update(eattr)\n\u001b[32m    791\u001b[39m \u001b[38;5;28;01mtry\u001b[39;00m:\n\u001b[32m--> \u001b[39m\u001b[32m792\u001b[39m     e = \u001b[38;5;28mnext\u001b[39m(new_edges)\n\u001b[32m    793\u001b[39m \u001b[38;5;28;01mexcept\u001b[39;00m \u001b[38;5;167;01mStopIteration\u001b[39;00m:\n\u001b[32m    794\u001b[39m     \u001b[38;5;28;01mif\u001b[39;00m format2 \u001b[38;5;129;01mor\u001b[39;00m format4:\n",
      "\u001b[36mFile \u001b[39m\u001b[32mc:\\Users\\AnnaSennpai\\Desktop\\Grinnell\\Second Year Summer\\MAP\\the-simpliciality-of-higher-order-networks\\.conda\\Lib\\site-packages\\xgi\\utils\\utilities.py:431\u001b[39m, in \u001b[36m<genexpr>\u001b[39m\u001b[34m(.0)\u001b[39m\n\u001b[32m    418\u001b[39m     net.add_simplices_from(\n\u001b[32m    419\u001b[39m         (\n\u001b[32m    420\u001b[39m             {node_dict[n] \u001b[38;5;28;01mfor\u001b[39;00m n \u001b[38;5;129;01min\u001b[39;00m edge},\n\u001b[32m   (...)\u001b[39m\u001b[32m    424\u001b[39m         \u001b[38;5;28;01mfor\u001b[39;00m e, edge \u001b[38;5;129;01min\u001b[39;00m edges.items()\n\u001b[32m    425\u001b[39m     )\n\u001b[32m    426\u001b[39m \u001b[38;5;28;01melif\u001b[39;00m \u001b[38;5;28misinstance\u001b[39m(net, Hypergraph):\n\u001b[32m    427\u001b[39m     net.add_edges_from(\n\u001b[32m    428\u001b[39m         (\n\u001b[32m    429\u001b[39m             {node_dict[n] \u001b[38;5;28;01mfor\u001b[39;00m n \u001b[38;5;129;01min\u001b[39;00m edge},\n\u001b[32m    430\u001b[39m             edge_dict[e],\n\u001b[32m--> \u001b[39m\u001b[32m431\u001b[39m             deepcopy(edge_attrs[e]),\n\u001b[32m    432\u001b[39m         )\n\u001b[32m    433\u001b[39m         \u001b[38;5;28;01mfor\u001b[39;00m e, edge \u001b[38;5;129;01min\u001b[39;00m edges.items()\n\u001b[32m    434\u001b[39m     )\n\u001b[32m    435\u001b[39m \u001b[38;5;28;01melif\u001b[39;00m \u001b[38;5;28misinstance\u001b[39m(net, DiHypergraph):\n\u001b[32m    436\u001b[39m     net.add_edges_from(\n\u001b[32m    437\u001b[39m         (\n\u001b[32m    438\u001b[39m             [\n\u001b[32m   (...)\u001b[39m\u001b[32m    445\u001b[39m         \u001b[38;5;28;01mfor\u001b[39;00m e, edge \u001b[38;5;129;01min\u001b[39;00m edges.items()\n\u001b[32m    446\u001b[39m     )\n",
      "\u001b[36mFile \u001b[39m\u001b[32mc:\\Users\\AnnaSennpai\\Desktop\\Grinnell\\Second Year Summer\\MAP\\the-simpliciality-of-higher-order-networks\\.conda\\Lib\\copy.py:127\u001b[39m, in \u001b[36mdeepcopy\u001b[39m\u001b[34m(x, memo, _nil)\u001b[39m\n\u001b[32m    124\u001b[39m \u001b[38;5;28;01mif\u001b[39;00m memo \u001b[38;5;129;01mis\u001b[39;00m \u001b[38;5;28;01mNone\u001b[39;00m:\n\u001b[32m    125\u001b[39m     memo = {}\n\u001b[32m--> \u001b[39m\u001b[32m127\u001b[39m d = \u001b[38;5;28mid\u001b[39m(x)\n\u001b[32m    128\u001b[39m y = memo.get(d, _nil)\n\u001b[32m    129\u001b[39m \u001b[38;5;28;01mif\u001b[39;00m y \u001b[38;5;129;01mis\u001b[39;00m \u001b[38;5;129;01mnot\u001b[39;00m _nil:\n",
      "\u001b[31mKeyboardInterrupt\u001b[39m: "
     ]
    }
   ],
   "source": [
    "from sod.simpliciality import edge_rewiring\n",
    "\n",
    "\n",
    "datasets = [\n",
    "    \"hospital-lyon\",\n",
    "    \"email-enron\",\n",
    "    \"email-eu\",\n",
    "    \"tags-ask-ubuntu\"\n",
    "]\n",
    "max_order = 7\n",
    "min_size = 2\n",
    "for i in range(4):\n",
    "\tH = xgi.load_xgi_data(datasets[i], max_order=max_order)\n",
    "\tH.cleanup(singletons=True)\n",
    "\n",
    "\tes_init = edit_simpliciality(H, min_size=min_size)\n",
    "\tfes_init = face_edit_simpliciality(H, min_size=min_size)\n",
    "\t#sf = simplicial_fraction(H, min_size=min_size)\n",
    "\n",
    "\tH = edge_rewiring.rewire_Alg1(H, min_size, max_order)\n",
    "\tH.cleanup(singletons=True)\n",
    "\n",
    "\tes_final = edit_simpliciality(H, min_size=min_size)\n",
    "\tfes_final = face_edit_simpliciality(H, min_size=min_size)\n",
    "\t# sf = simplicial_fraction(H, min_size=min_size)\n",
    "\tes_diff = es_init - es_final\n",
    "\tfes_diff = fes_init - fes_final\n",
    "\tprint(es_diff, fes_diff)"
   ]
  },
  {
   "cell_type": "code",
   "execution_count": null,
   "id": "5ffc7961",
   "metadata": {},
   "outputs": [],
   "source": []
  }
 ],
 "metadata": {
  "kernelspec": {
   "display_name": "Python 3",
   "language": "python",
   "name": "python3"
  },
  "language_info": {
   "codemirror_mode": {
    "name": "ipython",
    "version": 3
   },
   "file_extension": ".py",
   "mimetype": "text/x-python",
   "name": "python",
   "nbconvert_exporter": "python",
   "pygments_lexer": "ipython3",
   "version": "3.11.9"
  }
 },
 "nbformat": 4,
 "nbformat_minor": 5
}
