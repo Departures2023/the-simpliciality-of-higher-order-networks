{
 "cells": [
  {
   "cell_type": "code",
   "execution_count": 1,
   "id": "b73878da",
   "metadata": {},
   "outputs": [],
   "source": [
    "# import matplotlib.pyplot as plt\n",
    "# import numpy as np\n",
    "# import seaborn as sns\n",
    "import xgi\n",
    "# from matplotlib import cm\n",
    "# from draw import *\n",
    "from sod import *\n",
    "from sod.simpliciality import edit_simpliciality"
   ]
  },
  {
   "cell_type": "code",
   "execution_count": 2,
   "id": "d4692896",
   "metadata": {},
   "outputs": [
    {
     "name": "stdout",
     "output_type": "stream",
     "text": [
      "max to rewire: 1\n",
      "Actual rewired number: 0\n",
      "[]\n",
      "[]\n",
      "0.0 0.0\n",
      "max to rewire: 17\n",
      "Actual rewired number: 16\n",
      "[{10, 4}, {8, 1, 10, 4}, {8, 1, 5}, {1, 10, 4, 5}, {8, 10, 5}, {1, 4, 5, 8, 10}, {8, 1, 4, 5}, {1, 5, 8, 9, 10}, {8, 10, 4}, {9, 4}, {8, 1, 4}, {8, 1, 4, 9}, {1, 10, 4}, {8, 1, 5, 9}, {8, 4, 5}, {1, 10, 5, 9}]\n",
      "[{1, 10, 5}, {1, 4}, {1, 9}, {4, 5}, {1, 4, 5, 9}, {9, 10, 4, 5}, {8, 10}, {8, 1}, {1, 5}, {1, 4, 5}, {10, 5}, {8, 1, 9}, {8, 5}, {1, 5, 9}, {1, 10}, {9, 5}]\n",
      "0.0 0.005445348521434967\n",
      "max to rewire: 25\n",
      "Actual rewired number: 23\n",
      "[{41, 51, 87}, {42, 51, 93}, {93, 85, 94, 87}, {51, 85, 87, 41, 42, 94}, {41, 42, 85, 94}, {85, 87, 93, 94, 95}, {85, 41, 42, 94, 95}, {85, 87, 42, 94, 95}, {51, 87, 41, 42, 94}, {42, 85, 94, 87}, {42, 51, 93, 94}, {51, 85, 87, 41, 93, 94}, {51, 42, 93, 94, 95}, {51, 87, 41, 94, 95}, {42, 51, 85}, {41, 42, 51, 95}, {51, 85, 87, 93, 95}, {51, 93, 85, 87}, {41, 51, 93, 85}, {42, 51, 85, 87}, {51, 85, 41, 93, 95}, {51, 85, 87, 42, 95}, {51, 85, 41, 42, 93}]\n",
      "[{85, 87, 41, 42, 93}, {93, 95}, {42, 94}, {51, 85}, {41, 87}, {41, 42}, {42, 93}, {94, 95}, {42, 87}, {51, 94}, {87, 41, 42, 93, 95}, {41, 42, 87}, {51, 85, 87, 41, 42, 93}, {42, 85, 87}, {42, 95}, {85, 87, 41, 42, 93, 95}, {51, 94, 95}, {42, 85}, {51, 85, 87, 42, 93}, {51, 85, 87, 41, 42, 93, 95}, {42, 51}, {41, 42, 85}, {51, 95}]\n",
      "0.0 0.0005047049233198875\n",
      "max to rewire: 9\n",
      "Actual rewired number: 9\n",
      "[{8, 10, 11, 12}, {8, 9, 10, 12}, {9, 10, 11}, {8, 9, 10, 11}, {8, 10, 11}, {10, 12}, {9, 10, 11, 12}, {9, 10, 12}, {10, 11, 12}]\n",
      "[{8, 11}, {9, 10}, {11, 12}, {9, 11, 12}, {8, 9}, {8, 9, 11}, {8, 10, 12}, {8, 9, 11, 12}, {8, 10}]\n",
      "0.0 0.0006656530197001187\n"
     ]
    }
   ],
   "source": [
    "from sod.simpliciality import edge_rewiring\n",
    "\n",
    "\n",
    "datasets = [\n",
    "    \"hospital-lyon\",\n",
    "    \"email-enron\",\n",
    "    \"email-eu\",\n",
    "    \"tags-ask-ubuntu\"\n",
    "]\n",
    "max_order = 7\n",
    "min_size = 2\n",
    "for i in range(4):\n",
    "\tH = xgi.load_xgi_data(datasets[i], max_order=max_order)\n",
    "\tH.cleanup(singletons=True)\n",
    "\n",
    "\tes_init = edit_simpliciality(H, min_size=min_size)\n",
    "\tfes_init = face_edit_simpliciality(H, min_size=min_size)\n",
    "\t#sf = simplicial_fraction(H, min_size=min_size)\n",
    "\n",
    "\tH = edge_rewiring.rewire_Alg1(H, min_size, max_order)\n",
    "\tH.cleanup(singletons=True)\n",
    "\n",
    "\tes_final = edit_simpliciality(H, min_size=min_size)\n",
    "\tfes_final = face_edit_simpliciality(H, min_size=min_size)\n",
    "\t# sf = simplicial_fraction(H, min_size=min_size)\n",
    "\tes_diff = es_init - es_final\n",
    "\tfes_diff = fes_init - fes_final\n",
    "\tprint(es_diff, fes_diff)"
   ]
  },
  {
   "cell_type": "code",
   "execution_count": null,
   "id": "5ffc7961",
   "metadata": {},
   "outputs": [],
   "source": []
  }
 ],
 "metadata": {
  "kernelspec": {
   "display_name": "Python 3",
   "language": "python",
   "name": "python3"
  },
  "language_info": {
   "codemirror_mode": {
    "name": "ipython",
    "version": 3
   },
   "file_extension": ".py",
   "mimetype": "text/x-python",
   "name": "python",
   "nbconvert_exporter": "python",
   "pygments_lexer": "ipython3",
   "version": "3.11.9"
  }
 },
 "nbformat": 4,
 "nbformat_minor": 5
}
