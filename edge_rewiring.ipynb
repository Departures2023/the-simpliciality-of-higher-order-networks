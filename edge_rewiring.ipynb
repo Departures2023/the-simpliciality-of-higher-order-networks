{
 "cells": [
  {
   "cell_type": "code",
   "execution_count": 1,
   "id": "b73878da",
   "metadata": {},
   "outputs": [],
   "source": [
    "# import matplotlib.pyplot as plt\n",
    "# import numpy as np\n",
    "# import seaborn as sns\n",
    "import xgi\n",
    "# from matplotlib import cm\n",
    "# from draw import *\n",
    "from sod import *\n",
    "from sod.simpliciality import edit_simpliciality"
   ]
  },
  {
   "cell_type": "code",
   "execution_count": 8,
   "id": "d4692896",
   "metadata": {},
   "outputs": [
    {
     "name": "stdout",
     "output_type": "stream",
     "text": [
      "max to rewire: 1\n",
      "Actual rewired number: 0\n",
      "Edge added:[]\n",
      "Edge removed:[]\n",
      "Delta ES: []\n",
      "Delta FES: []\n",
      "0.0 0.0\n",
      "max to rewire: 14\n",
      "Actual rewired number: 11\n",
      "Edge added:[{17, 5, 9}, {1, 17, 4, 5, 9}, {1, 13, 9}, {1, 4, 13, 17}, {17, 13, 9}, {9, 13, 5}, {17, 13, 4, 5}, {1, 4, 5, 9, 13}, {17, 13, 5, 9}, {9, 4}, {17, 4, 5}]\n",
      "Edge removed:[{1, 4}, {1, 9}, {4, 13}, {4, 5}, {1, 4, 5, 9}, {1, 5}, {1, 4, 5}, {13, 4, 5}, {13, 5}, {1, 5, 9}, {9, 5}]\n",
      "Delta ES: [0.0, 0.0, 0.0, 0.0, 0.0, 0.0, 0.0, 0.0, 0.0, 0.0, 0.0]\n",
      "Delta FES: [0.0001756684588662405, 7.215567932539191e-06, 1.5962294208637928e-08, 0.001988794602471533, 7.215567932539191e-06, 0.00021826640567140787, 0.00017566845886618498, 1.596229426414908e-08, 2.0720312959299214e-06, -0.0008368360459762858, 0.00044258624850818107]\n",
      "0.0 0.0021806832201567428\n",
      "max to rewire: 25\n"
     ]
    },
    {
     "ename": "",
     "evalue": "",
     "output_type": "error",
     "traceback": [
      "\u001b[1;31mThe Kernel crashed while executing code in the current cell or a previous cell. \n",
      "\u001b[1;31mPlease review the code in the cell(s) to identify a possible cause of the failure. \n",
      "\u001b[1;31mClick <a href='https://aka.ms/vscodeJupyterKernelCrash'>here</a> for more info. \n",
      "\u001b[1;31mView Jupyter <a href='command:jupyter.viewOutput'>log</a> for further details."
     ]
    }
   ],
   "source": [
    "from sod.simpliciality import edge_rewiring\n",
    "\n",
    "\n",
    "datasets = [\n",
    "    \"hospital-lyon\",\n",
    "    \"email-enron\",\n",
    "    \"email-eu\"\n",
    "]\n",
    "max_order = 20\n",
    "min_size = 2\n",
    "for i in range(3):\n",
    "\tH = xgi.load_xgi_data(datasets[i], max_order=max_order)\n",
    "\tH.cleanup(singletons=True)\n",
    "\n",
    "\tes_init = edit_simpliciality(H, min_size=min_size)\n",
    "\tfes_init = face_edit_simpliciality(H, min_size=min_size)\n",
    "\t#sf = simplicial_fraction(H, min_size=min_size)\n",
    "\n",
    "\tH = edge_rewiring.rewire_Alg1(H, min_size, max_order)\n",
    "\tH.cleanup(singletons=True)\n",
    "\n",
    "\tes_final = edit_simpliciality(H, min_size=min_size)\n",
    "\tfes_final = face_edit_simpliciality(H, min_size=min_size)\n",
    "\t# sf = simplicial_fraction(H, min_size=min_size)\n",
    "\tes_diff = es_init - es_final\n",
    "\tfes_diff = fes_init - fes_final\n",
    "\tprint(es_diff, fes_diff)"
   ]
  },
  {
   "cell_type": "code",
   "execution_count": null,
   "id": "5ffc7961",
   "metadata": {},
   "outputs": [
    {
     "name": "stdout",
     "output_type": "stream",
     "text": [
      "max to rewire: 17\n",
      "Actual rewired number: 16\n",
      "Edge added:[{10, 4}, {8, 1, 10, 4}, {8, 1, 5}, {1, 10, 4, 5}, {8, 10, 5}, {1, 4, 5, 8, 10}, {8, 1, 4, 5}, {1, 5, 8, 9, 10}, {8, 10, 4}, {9, 4}, {8, 1, 4}, {8, 1, 4, 9}, {1, 10, 4}, {8, 1, 5, 9}, {8, 4, 5}, {1, 10, 5, 9}]\n",
      "Edge removed:[{1, 10, 5}, {1, 4}, {1, 9}, {4, 5}, {1, 4, 5, 9}, {9, 10, 4, 5}, {8, 10}, {8, 1}, {1, 5}, {1, 4, 5}, {10, 5}, {8, 1, 9}, {8, 5}, {1, 5, 9}, {1, 10}, {9, 5}]\n",
      "Delta ES: [0.0, 0.0, 0.0, 0.0, 0.0, 0.0, 0.0, 0.0, 0.0, 0.0, 0.0, 0.0, 0.0, 0.0, 0.0, 0.0]\n",
      "Delta FES: [-4.566911124970208e-05, 0.00023651334823637793, 0.00015714826887136546, 0.0018993526250433712, 1.8334985012469218e-05, 5.9259651058574114e-05, 7.480918759661392e-05, 0.0, 0.0015582851726232416, -0.0006181663153941308, 0.00013406883865529906, 1.4570038173511435e-05, 4.566911124970208e-05, 0.00015714826887136546, 0.0012083336700359215, 0.0005456907826509871]\n"
     ]
    },
    {
     "ename": "ValueError",
     "evalue": "setting an array element with a sequence.",
     "output_type": "error",
     "traceback": [
      "\u001b[31m---------------------------------------------------------------------------\u001b[39m",
      "\u001b[31mTypeError\u001b[39m                                 Traceback (most recent call last)",
      "\u001b[31mTypeError\u001b[39m: float() argument must be a string or a real number, not 'list'",
      "\nThe above exception was the direct cause of the following exception:\n",
      "\u001b[31mValueError\u001b[39m                                Traceback (most recent call last)",
      "\u001b[36mCell\u001b[39m\u001b[36m \u001b[39m\u001b[32mIn[7]\u001b[39m\u001b[32m, line 26\u001b[39m\n\u001b[32m     23\u001b[39m     H2.append(\u001b[38;5;28mlist\u001b[39m(s))\n\u001b[32m     25\u001b[39m df1 = pd.DataFrame({\u001b[33m'\u001b[39m\u001b[33mH1\u001b[39m\u001b[33m'\u001b[39m: H1, \u001b[33m'\u001b[39m\u001b[33mH2\u001b[39m\u001b[33m'\u001b[39m: H2})\n\u001b[32m---> \u001b[39m\u001b[32m26\u001b[39m correlation_pearson = df1[\u001b[33m'\u001b[39m\u001b[33mH1\u001b[39m\u001b[33m'\u001b[39m].corr(df1[\u001b[33m'\u001b[39m\u001b[33mH2\u001b[39m\u001b[33m'\u001b[39m], method=\u001b[33m'\u001b[39m\u001b[33mpearson\u001b[39m\u001b[33m'\u001b[39m)\n\u001b[32m     27\u001b[39m correlation_spearman = df1[\u001b[33m'\u001b[39m\u001b[33mH1\u001b[39m\u001b[33m'\u001b[39m].corr(df1[\u001b[33m'\u001b[39m\u001b[33mH2\u001b[39m\u001b[33m'\u001b[39m], method=\u001b[33m'\u001b[39m\u001b[33mspearman\u001b[39m\u001b[33m'\u001b[39m)\n\u001b[32m     28\u001b[39m \u001b[38;5;28mprint\u001b[39m(\u001b[33mf\u001b[39m\u001b[33m\"\u001b[39m\u001b[33mPearson correlation: \u001b[39m\u001b[38;5;132;01m{\u001b[39;00mcorrelation_pearson\u001b[38;5;132;01m}\u001b[39;00m\u001b[33m\"\u001b[39m)\n",
      "\u001b[36mFile \u001b[39m\u001b[32mc:\\Users\\AnnaSennpai\\Desktop\\Grinnell\\Second Year Summer\\MAP\\the-simpliciality-of-higher-order-networks\\.conda\\Lib\\site-packages\\pandas\\core\\series.py:2973\u001b[39m, in \u001b[36mSeries.corr\u001b[39m\u001b[34m(self, other, method, min_periods)\u001b[39m\n\u001b[32m   2970\u001b[39m \u001b[38;5;28;01mif\u001b[39;00m \u001b[38;5;28mlen\u001b[39m(this) == \u001b[32m0\u001b[39m:\n\u001b[32m   2971\u001b[39m     \u001b[38;5;28;01mreturn\u001b[39;00m np.nan\n\u001b[32m-> \u001b[39m\u001b[32m2973\u001b[39m this_values = this.to_numpy(dtype=\u001b[38;5;28mfloat\u001b[39m, na_value=np.nan, copy=\u001b[38;5;28;01mFalse\u001b[39;00m)\n\u001b[32m   2974\u001b[39m other_values = other.to_numpy(dtype=\u001b[38;5;28mfloat\u001b[39m, na_value=np.nan, copy=\u001b[38;5;28;01mFalse\u001b[39;00m)\n\u001b[32m   2976\u001b[39m \u001b[38;5;28;01mif\u001b[39;00m method \u001b[38;5;129;01min\u001b[39;00m [\u001b[33m\"\u001b[39m\u001b[33mpearson\u001b[39m\u001b[33m\"\u001b[39m, \u001b[33m\"\u001b[39m\u001b[33mspearman\u001b[39m\u001b[33m\"\u001b[39m, \u001b[33m\"\u001b[39m\u001b[33mkendall\u001b[39m\u001b[33m\"\u001b[39m] \u001b[38;5;129;01mor\u001b[39;00m \u001b[38;5;28mcallable\u001b[39m(method):\n",
      "\u001b[36mFile \u001b[39m\u001b[32mc:\\Users\\AnnaSennpai\\Desktop\\Grinnell\\Second Year Summer\\MAP\\the-simpliciality-of-higher-order-networks\\.conda\\Lib\\site-packages\\pandas\\core\\base.py:662\u001b[39m, in \u001b[36mIndexOpsMixin.to_numpy\u001b[39m\u001b[34m(self, dtype, copy, na_value, **kwargs)\u001b[39m\n\u001b[32m    658\u001b[39m         values = values.copy()\n\u001b[32m    660\u001b[39m     values[np.asanyarray(isna(\u001b[38;5;28mself\u001b[39m))] = na_value\n\u001b[32m--> \u001b[39m\u001b[32m662\u001b[39m result = np.asarray(values, dtype=dtype)\n\u001b[32m    664\u001b[39m \u001b[38;5;28;01mif\u001b[39;00m (copy \u001b[38;5;129;01mand\u001b[39;00m \u001b[38;5;129;01mnot\u001b[39;00m fillna) \u001b[38;5;129;01mor\u001b[39;00m (\u001b[38;5;129;01mnot\u001b[39;00m copy \u001b[38;5;129;01mand\u001b[39;00m using_copy_on_write()):\n\u001b[32m    665\u001b[39m     \u001b[38;5;28;01mif\u001b[39;00m np.shares_memory(\u001b[38;5;28mself\u001b[39m._values[:\u001b[32m2\u001b[39m], result[:\u001b[32m2\u001b[39m]):\n\u001b[32m    666\u001b[39m         \u001b[38;5;66;03m# Take slices to improve performance of check\u001b[39;00m\n",
      "\u001b[31mValueError\u001b[39m: setting an array element with a sequence."
     ]
    }
   ],
   "source": [
    "import pandas as pd\n",
    "import numpy as np\n",
    "import matplotlib.pyplot as plt\n",
    "import seaborn as sns\n",
    "from scipy import stats\n",
    "\n",
    "dataset = \"email-enron\"\n",
    "max_order = 7\n",
    "min_size = 2\n",
    "\n",
    "H = xgi.load_xgi_data(dataset, max_order=max_order)\n",
    "H.cleanup(singletons=True)\n",
    "H1_set = H.edges.members()\n",
    "H1 = []\n",
    "for s in H1_set:\n",
    "    H1.append(list(s))\n",
    "\n",
    "H = edge_rewiring.rewire_Alg1(H, min_size, max_order)\n",
    "H.cleanup(singletons=True)\n",
    "H2_set = H.edges.members()\n",
    "H2 = []\n",
    "for s in H2_set:\n",
    "    H2.append(list(s))\n",
    "\n",
    "df1 = pd.DataFrame({'H1': H1, 'H2': H2})\n",
    "correlation_pearson = df1['H1'].corr(df1['H2'], method='pearson')\n",
    "correlation_spearman = df1['H1'].corr(df1['H2'], method='spearman')\n",
    "print(f\"Pearson correlation: {correlation_pearson}\")\n",
    "print(f\"Spearman correlation: {correlation_spearman}\")"
   ]
  }
 ],
 "metadata": {
  "kernelspec": {
   "display_name": ".conda",
   "language": "python",
   "name": "python3"
  },
  "language_info": {
   "codemirror_mode": {
    "name": "ipython",
    "version": 3
   },
   "file_extension": ".py",
   "mimetype": "text/x-python",
   "name": "python",
   "nbconvert_exporter": "python",
   "pygments_lexer": "ipython3",
   "version": "3.12.9"
  }
 },
 "nbformat": 4,
 "nbformat_minor": 5
}
