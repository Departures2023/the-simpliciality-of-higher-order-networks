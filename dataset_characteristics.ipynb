{
 "cells": [
  {
   "cell_type": "code",
   "execution_count": 1,
   "metadata": {},
   "outputs": [],
   "source": [
    "import xgi\n",
    "import json\n",
    "import numpy as np"
   ]
  },
  {
   "cell_type": "code",
   "execution_count": 2,
   "metadata": {},
   "outputs": [],
   "source": [
    "datasets = [\n",
    "    \"contact-primary-school\",\n",
    "    \"contact-high-school\",\n",
    "    \"hospital-lyon\",\n",
    "    \"email-enron\",\n",
    "    \"email-eu\",\n",
    "    \"coauth-mag-geology\",\n",
    "    \"coauth-mag-history\",\n",
    "    \"diseasome\",\n",
    "    \"disgenenet\",\n",
    "    \"ndc-substances\",\n",
    "    \"congress-bills\",\n",
    "    \"tags-ask-ubuntu\",\n",
    "]\n",
    "\n",
    "# This argument is very important to the computational feasibility of this algorithm\n",
    "max_size = 11"
   ]
  },
  {
   "cell_type": "code",
   "execution_count": 4,
   "metadata": {},
   "outputs": [
    {
     "name": "stdout",
     "output_type": "stream",
     "text": [
      "Just finished  contact-primary-school\n",
      "Just finished  contact-high-school\n",
      "Just finished  hospital-lyon\n",
      "Just finished  email-enron\n",
      "Just finished  email-eu\n",
      "Just finished  coauth-mag-geology\n",
      "Just finished  coauth-mag-history\n",
      "Just finished  ndc-substances\n",
      "Just finished  diseasome\n",
      "Just finished  disgenenet\n",
      "Just finished  congress-bills\n",
      "Just finished  tags-ask-ubuntu\n"
     ]
    }
   ],
   "source": [
    "try:\n",
    "    with open(f\"Data/dataset_characteristics.json\", \"r\") as file:\n",
    "        data = json.loads(file.read())\n",
    "except:\n",
    "    data = dict()\n",
    "\n",
    "    for d in datasets:\n",
    "        data[d] = dict()\n",
    "        H = xgi.load_xgi_data(d, max_order=max_size - 1)\n",
    "        H.cleanup()\n",
    "\n",
    "        data[d][\"num-nodes\"] = H.num_nodes\n",
    "        data[d][\"num-edges\"] = H.num_edges\n",
    "        data[d][\"mean-degree\"] = H.num_edges / H.num_nodes\n",
    "        data[d][\"mean-edge-size\"] = H.edges.size.mean()\n",
    "\n",
    "        print(\"Just finished \", d)\n",
    "\n",
    "    with open(f\"Data/dataset_characteristics.json\", \"w\") as file:\n",
    "        datastring = json.dumps(data, indent=2)\n",
    "        file.write(datastring)"
   ]
  },
  {
   "cell_type": "code",
   "execution_count": 5,
   "metadata": {},
   "outputs": [
    {
     "name": "stdout",
     "output_type": "stream",
     "text": [
      "contact-primary-school & 242 & 12704 & 52.5 & 2.42\n",
      "contact-high-school & 327 & 7818 & 23.91 & 2.33\n",
      "hospital-lyon & 75 & 1824 & 24.32 & 2.43\n",
      "email-enron & 143 & 1442 & 10.08 & 2.97\n",
      "email-eu & 967 & 23729 & 24.54 & 3.12\n",
      "coauth-mag-geology & 1061562 & 898649 & 0.85 & 3.72\n",
      "coauth-mag-history & 448593 & 248633 & 0.55 & 2.72\n",
      "ndc-substances & 2740 & 4754 & 1.74 & 5.16\n",
      "diseasome & 516 & 314 & 0.61 & 3.0\n",
      "disgenenet & 1982 & 760 & 0.38 & 5.14\n",
      "congress-bills & 1715 & 58788 & 34.28 & 4.95\n",
      "tags-ask-ubuntu & 3021 & 145053 & 48.01 & 3.43\n"
     ]
    }
   ],
   "source": [
    "for name in datasets:\n",
    "    d = data[name]\n",
    "    print(\n",
    "        f\"{name} & {d['num-nodes']} & {d['num-edges']} & {round(d['mean-degree'], 2)} & {round(d['mean-edge-size'], 2)}\"\n",
    "    )"
   ]
  },
  {
   "cell_type": "code",
   "execution_count": null,
   "metadata": {},
   "outputs": [],
   "source": []
  }
 ],
 "metadata": {
  "kernelspec": {
   "display_name": "hyper",
   "language": "python",
   "name": "python3"
  },
  "language_info": {
   "codemirror_mode": {
    "name": "ipython",
    "version": 3
   },
   "file_extension": ".py",
   "mimetype": "text/x-python",
   "name": "python",
   "nbconvert_exporter": "python",
   "pygments_lexer": "ipython3",
   "version": "3.10.0"
  },
  "orig_nbformat": 4
 },
 "nbformat": 4,
 "nbformat_minor": 2
}
