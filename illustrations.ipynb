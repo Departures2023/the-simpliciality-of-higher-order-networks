{
 "cells": [
  {
   "cell_type": "code",
   "execution_count": null,
   "metadata": {},
   "outputs": [],
   "source": [
    "import matplotlib.cm as cm\n",
    "import matplotlib.pyplot as plt\n",
    "import xgi\n",
    "\n",
    "from draw import draw_multilayer\n",
    "from sod import *"
   ]
  },
  {
   "cell_type": "code",
   "execution_count": null,
   "metadata": {},
   "outputs": [],
   "source": [
    "edgelist = [\n",
    "    [1, 2, 3],\n",
    "    [1, 2],\n",
    "    [4, 5, 6],\n",
    "    [1, 4],\n",
    "    [4, 5],\n",
    "    [5, 6],\n",
    "    [4, 6],\n",
    "    [5, 7],\n",
    "    [6, 7],\n",
    "    [4, 5, 6, 7],\n",
    "]\n",
    "H = xgi.Hypergraph(edgelist)"
   ]
  },
  {
   "cell_type": "code",
   "execution_count": null,
   "metadata": {},
   "outputs": [],
   "source": [
    "pos = xgi.pca_transform(xgi.pairwise_spring_layout(H, seed=1))"
   ]
  },
  {
   "cell_type": "code",
   "execution_count": null,
   "metadata": {},
   "outputs": [],
   "source": [
    "minimally_simplicial = xgi.Hypergraph(H.edges.maximal().members())\n",
    "maximally_simplicial = xgi.Hypergraph(\n",
    "    [e for f in minimally_simplicial.edges.members() for e in powerset(f, 2)]\n",
    ")"
   ]
  },
  {
   "cell_type": "code",
   "execution_count": null,
   "metadata": {},
   "outputs": [],
   "source": [
    "plt.figure(figsize=(5, 2))\n",
    "xgi.draw(minimally_simplicial, pos, aspect=\"auto\")\n",
    "plt.savefig(\"Figures/Fig1/least_simplicial.png\", dpi=1000)\n",
    "plt.savefig(\"Figures/Fig1/least_simplicial.svg\", dpi=1000)"
   ]
  },
  {
   "cell_type": "code",
   "execution_count": null,
   "metadata": {},
   "outputs": [],
   "source": [
    "plt.figure(figsize=(5, 2))\n",
    "xgi.draw(maximally_simplicial, pos, aspect=\"auto\")\n",
    "plt.savefig(\"Figures/Fig1/most_simplicial.png\", dpi=1000)\n",
    "plt.savefig(\"Figures/Fig1/most_simplicial.svg\", dpi=1000)"
   ]
  },
  {
   "cell_type": "markdown",
   "metadata": {},
   "source": [
    "# Illustration of edit simpliciality"
   ]
  },
  {
   "cell_type": "code",
   "execution_count": null,
   "metadata": {},
   "outputs": [],
   "source": [
    "e = H.edges.members()\n",
    "SC = xgi.SimplicialComplex(e)\n",
    "diff = [set(e) for e in SC.edges.members() if set(e) not in H.edges.members()]\n",
    "Hdiff = xgi.Hypergraph(diff)\n",
    "Hcomplete = xgi.Hypergraph(SC)"
   ]
  },
  {
   "cell_type": "code",
   "execution_count": null,
   "metadata": {},
   "outputs": [],
   "source": [
    "Hdiff.edges.members()"
   ]
  },
  {
   "cell_type": "code",
   "execution_count": null,
   "metadata": {},
   "outputs": [],
   "source": [
    "plt.figure(figsize=(5, 2))\n",
    "xgi.draw(H, pos, aspect=\"auto\")\n",
    "plt.savefig(\"Figures/Fig1/hypergraph.png\", dpi=1000)\n",
    "plt.savefig(\"Figures/Fig1/hypergraph.svg\", dpi=1000)"
   ]
  },
  {
   "cell_type": "code",
   "execution_count": null,
   "metadata": {},
   "outputs": [],
   "source": [
    "plt.figure(figsize=(5, 2))\n",
    "xgi.draw(Hdiff, pos, aspect=\"auto\")\n",
    "plt.savefig(\"Figures/Fig1/missing_edges.png\", dpi=1000)\n",
    "plt.savefig(\"Figures/Fig1/missing_edges.svg\", dpi=1000)"
   ]
  },
  {
   "cell_type": "code",
   "execution_count": null,
   "metadata": {},
   "outputs": [],
   "source": [
    "plt.figure(figsize=(5, 2))\n",
    "xgi.draw(Hcomplete, pos, aspect=\"auto\")\n",
    "plt.savefig(\"Figures/Fig1/simplicial_complex.png\", dpi=1000)\n",
    "plt.savefig(\"Figures/Fig1/simplicial_complex.svg\", dpi=1000)"
   ]
  },
  {
   "cell_type": "markdown",
   "metadata": {},
   "source": [
    "# Simplicial Fraction"
   ]
  },
  {
   "cell_type": "code",
   "execution_count": null,
   "metadata": {},
   "outputs": [],
   "source": [
    "edge_fc = {0: \"maroon\", 2: \"seagreen\", 9: \"maroon\"}\n",
    "draw_multilayer(\n",
    "    H,\n",
    "    pos=pos,\n",
    "    ax=None,\n",
    "    dyad_color=\"lightgrey\",\n",
    "    dyad_lw=1,\n",
    "    edge_fc=edge_fc,\n",
    "    node_fc=\"white\",\n",
    "    node_ec=\"black\",\n",
    "    node_lw=1,\n",
    "    node_size=5,\n",
    "    max_order=4,\n",
    "    node_labels=False,\n",
    "    hyperedge_labels=False,\n",
    "    conn_lines=True,\n",
    "    conn_lines_style=\"dotted\",\n",
    "    width=5,\n",
    "    height=5,\n",
    "    h_angle=9,\n",
    "    v_angle=50,\n",
    "    sep=1,\n",
    ")\n",
    "plt.tight_layout()\n",
    "plt.savefig(\"Figures/Fig1/simplicial_fraction.png\", dpi=1000)\n",
    "plt.savefig(\"Figures/Fig1/simplicial_fraction.svg\", dpi=1000)\n",
    "plt.show()"
   ]
  },
  {
   "cell_type": "code",
   "execution_count": null,
   "metadata": {},
   "outputs": [],
   "source": [
    "edge_fc = {\n",
    "    0: (0.82745098, 0.93254902, 0.80313725),\n",
    "    2: \"lightgrey\",\n",
    "    9: (0.54071511, 0.80867359, 0.53330258),\n",
    "}\n",
    "draw_multilayer(\n",
    "    H,\n",
    "    pos=pos,\n",
    "    ax=None,\n",
    "    dyad_color=\"lightgrey\",\n",
    "    dyad_lw=1,\n",
    "    edge_fc=edge_fc,\n",
    "    node_fc=\"white\",\n",
    "    node_ec=\"black\",\n",
    "    node_lw=1,\n",
    "    node_size=5,\n",
    "    max_order=4,\n",
    "    node_labels=False,\n",
    "    hyperedge_labels=False,\n",
    "    conn_lines=True,\n",
    "    conn_lines_style=\"dotted\",\n",
    "    width=5,\n",
    "    height=5,\n",
    "    h_angle=9,\n",
    "    v_angle=50,\n",
    "    sep=1,\n",
    "    edge_fc_cmap=cm.Greens,\n",
    ")\n",
    "plt.tight_layout()\n",
    "plt.savefig(\"Figures/Fig1/face_edit_simpliciality.png\", dpi=1000)\n",
    "plt.savefig(\"Figures/Fig1/face_edit_simpliciality.svg\", dpi=1000)\n",
    "plt.show()"
   ]
  },
  {
   "cell_type": "code",
   "execution_count": null,
   "metadata": {},
   "outputs": [],
   "source": []
  }
 ],
 "metadata": {
  "kernelspec": {
   "display_name": "hyper",
   "language": "python",
   "name": "python3"
  },
  "language_info": {
   "codemirror_mode": {
    "name": "ipython",
    "version": 3
   },
   "file_extension": ".py",
   "mimetype": "text/x-python",
   "name": "python",
   "nbconvert_exporter": "python",
   "pygments_lexer": "ipython3",
   "version": "3.10.0"
  },
  "orig_nbformat": 4
 },
 "nbformat": 4,
 "nbformat_minor": 2
}
