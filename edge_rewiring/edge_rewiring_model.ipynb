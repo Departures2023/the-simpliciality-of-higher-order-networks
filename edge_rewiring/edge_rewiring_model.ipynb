{
 "cells": [
  {
   "cell_type": "code",
   "execution_count": 1,
   "id": "c115e3a7",
   "metadata": {},
   "outputs": [],
   "source": [
    "import xgi\n",
    "import numpy as np\n",
    "import sys\n",
    "import os\n",
    "# __file__ is not defined in Jupyter, use current working directory instead\n",
    "sys.path.append(os.path.abspath(os.path.join(os.getcwd(), '..')))\n",
    "sys.path.append(os.path.abspath(os.path.join(os.getcwd(), '..', 'edge_rewiring')))\n",
    "from sod.simpliciality import edit_simpliciality, face_edit_simpliciality, simplicial_fraction"
   ]
  },
  {
   "cell_type": "code",
   "execution_count": null,
   "id": "ba303a60",
   "metadata": {},
   "outputs": [
    {
     "ename": "ValueError",
     "evalue": "Impossible to generate numbers: Value Error.",
     "output_type": "error",
     "traceback": [
      "\u001b[31m---------------------------------------------------------------------------\u001b[39m",
      "\u001b[31mValueError\u001b[39m                                Traceback (most recent call last)",
      "\u001b[36mCell\u001b[39m\u001b[36m \u001b[39m\u001b[32mIn[2]\u001b[39m\u001b[32m, line 4\u001b[39m\n\u001b[32m      1\u001b[39m \u001b[38;5;28;01mfrom\u001b[39;00m\u001b[38;5;250m \u001b[39m\u001b[34;01medge_rewiring\u001b[39;00m\u001b[38;5;250m \u001b[39m\u001b[38;5;28;01mimport\u001b[39;00m edge_rewiring_model\n\u001b[32m----> \u001b[39m\u001b[32m4\u001b[39m H = edge_rewiring_model.edge_rewire_model(edit_simpliciality=\u001b[32m0.7\u001b[39m, C_max=\u001b[32m1000\u001b[39m, num_max_hyperedge=\u001b[32m10\u001b[39m,num_node=\u001b[32m100\u001b[39m, min_size=\u001b[32m2\u001b[39m, max_size=\u001b[32m7\u001b[39m)\n\u001b[32m      5\u001b[39m es = edit_simpliciality(H, min_size=\u001b[32m2\u001b[39m, max_size=\u001b[32m7\u001b[39m)\n\u001b[32m      6\u001b[39m \u001b[38;5;28mprint\u001b[39m(\u001b[33mf\u001b[39m\u001b[33m\"\u001b[39m\u001b[33mEdit simpliciality: \u001b[39m\u001b[38;5;132;01m{\u001b[39;00mes\u001b[38;5;132;01m}\u001b[39;00m\u001b[33m\"\u001b[39m)\n",
      "\u001b[36mFile \u001b[39m\u001b[32mc:\\Users\\AnnaSennpai\\Desktop\\Grinnell\\Second Year Summer\\MAP\\the-simpliciality-of-higher-order-networks\\edge_rewiring\\edge_rewiring_model.py:116\u001b[39m, in \u001b[36medge_rewire_model\u001b[39m\u001b[34m(edit_simpliciality, C_max, num_max_hyperedge, num_node, min_size, max_size)\u001b[39m\n\u001b[32m    112\u001b[39m C_distribution = np.round(C_distribution).astype(\u001b[38;5;28mint\u001b[39m)\n\u001b[32m    113\u001b[39m \u001b[38;5;66;03m# Ensure that the C_distribution values are within the specified min and max size\u001b[39;00m\n\u001b[32m    114\u001b[39m \n\u001b[32m    115\u001b[39m \u001b[38;5;66;03m# Generate the distribution of numbers of edges actually connected\u001b[39;00m\n\u001b[32m--> \u001b[39m\u001b[32m116\u001b[39m edge_distribution  = generate_edge_distribution(\n\u001b[32m    117\u001b[39m     min_edge_num=min_size, \n\u001b[32m    118\u001b[39m     C_distribution=C_distribution, \n\u001b[32m    119\u001b[39m     target_sum=edge_total\n\u001b[32m    120\u001b[39m )\n\u001b[32m    122\u001b[39m \u001b[38;5;66;03m# Convert the distribution of C values to the number of nodes in maximal hyperedges\u001b[39;00m\n\u001b[32m    123\u001b[39m maximal_edge_size_list = [combination_to_size(i) \u001b[38;5;28;01mfor\u001b[39;00m i \u001b[38;5;129;01min\u001b[39;00m C_distribution]\n",
      "\u001b[36mFile \u001b[39m\u001b[32mc:\\Users\\AnnaSennpai\\Desktop\\Grinnell\\Second Year Summer\\MAP\\the-simpliciality-of-higher-order-networks\\edge_rewiring\\edge_rewiring_model.py:54\u001b[39m, in \u001b[36mgenerate_edge_distribution\u001b[39m\u001b[34m(min_edge_num, C_distribution, target_sum)\u001b[39m\n\u001b[32m     51\u001b[39m length = \u001b[38;5;28mlen\u001b[39m(C_distribution)\n\u001b[32m     53\u001b[39m \u001b[38;5;28;01mif\u001b[39;00m target_sum > C_distribution.sum() \u001b[38;5;129;01mor\u001b[39;00m target_sum < length * min_edge_num:\n\u001b[32m---> \u001b[39m\u001b[32m54\u001b[39m     \u001b[38;5;28;01mraise\u001b[39;00m \u001b[38;5;167;01mValueError\u001b[39;00m(\u001b[33m\"\u001b[39m\u001b[33mImpossible to generate numbers: Value Error.\u001b[39m\u001b[33m\"\u001b[39m)\n\u001b[32m     56\u001b[39m \u001b[38;5;66;03m# list of n min_value numbers\u001b[39;00m\n\u001b[32m     57\u001b[39m edge_distribution = [min_edge_num] * length\n",
      "\u001b[31mValueError\u001b[39m: Impossible to generate numbers: Value Error."
     ]
    }
   ],
   "source": [
    "from edge_rewiring import edge_rewiring_model\n",
    "\n",
    "\n",
    "H = edge_rewiring_model.edge_rewire_model(edit_simpliciality=0.7, C_max=100, num_max_hyperedge=10,num_node=100, min_size=2, max_size=7)\n",
    "es = edit_simpliciality(H, min_size=2, max_size=7)\n",
    "print(f\"Edit simpliciality: {es}\")\n"
   ]
  }
 ],
 "metadata": {
  "kernelspec": {
   "display_name": ".conda",
   "language": "python",
   "name": "python3"
  },
  "language_info": {
   "codemirror_mode": {
    "name": "ipython",
    "version": 3
   },
   "file_extension": ".py",
   "mimetype": "text/x-python",
   "name": "python",
   "nbconvert_exporter": "python",
   "pygments_lexer": "ipython3",
   "version": "3.12.9"
  }
 },
 "nbformat": 4,
 "nbformat_minor": 5
}
