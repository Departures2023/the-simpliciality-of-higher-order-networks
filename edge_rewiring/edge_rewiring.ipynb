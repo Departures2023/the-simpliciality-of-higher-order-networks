{
 "cells": [
  {
   "cell_type": "code",
   "execution_count": 1,
   "id": "b73878da",
   "metadata": {},
   "outputs": [],
   "source": [
    "# import matplotlib.pyplot as plt\n",
    "# import numpy as np\n",
    "# import seaborn as sns\n",
    "import xgi\n",
    "# from matplotlib import cm\n",
    "# from draw import *\n",
    "from sod import *\n",
    "from sod.simpliciality import edit_simpliciality"
   ]
  },
  {
   "cell_type": "code",
   "execution_count": null,
   "id": "d4692896",
   "metadata": {},
   "outputs": [
    {
     "name": "stdout",
     "output_type": "stream",
     "text": [
      "0.3960682278115062\n"
     ]
    },
    {
     "ename": "AttributeError",
     "evalue": "module 'sod.simpliciality.edge_rewiring' has no attribute 'non_simplex_maximal_edges'",
     "output_type": "error",
     "traceback": [
      "\u001b[0;31m---------------------------------------------------------------------------\u001b[0m",
      "\u001b[0;31mAttributeError\u001b[0m                            Traceback (most recent call last)",
      "Cell \u001b[0;32mIn[2], line 17\u001b[0m\n\u001b[1;32m     13\u001b[0m \u001b[38;5;66;03m#fes = face_edit_simpliciality(H, min_size=min_size)\u001b[39;00m\n\u001b[1;32m     14\u001b[0m \u001b[38;5;66;03m#sf = simplicial_fraction(H, min_size=min_size)\u001b[39;00m\n\u001b[1;32m     15\u001b[0m \u001b[38;5;28mprint\u001b[39m(es)\n\u001b[0;32m---> 17\u001b[0m H \u001b[38;5;241m=\u001b[39m \u001b[43medge_rewiring\u001b[49m\u001b[38;5;241;43m.\u001b[39;49m\u001b[43mnon_simplex_maximal_edges\u001b[49m(H, min_size\u001b[38;5;241m=\u001b[39mmin_size)\n\u001b[1;32m     18\u001b[0m \u001b[38;5;66;03m# H.cleanup(singletons=True)\u001b[39;00m\n\u001b[1;32m     20\u001b[0m es \u001b[38;5;241m=\u001b[39m edit_simpliciality(H, min_size\u001b[38;5;241m=\u001b[39mmin_size)\n",
      "\u001b[0;31mAttributeError\u001b[0m: module 'sod.simpliciality.edge_rewiring' has no attribute 'non_simplex_maximal_edges'"
     ]
    }
   ],
   "source": [
    "from sod.simpliciality import edge_rewiring\n",
    "\n",
    "\n",
    "dataset = \"email-enron\"\n",
    "max_order = 5\n",
    "min_size = 2\n",
    "\n",
    "H = xgi.load_xgi_data(dataset, max_order=max_order)\n",
    "H.cleanup(singletons=True)\n",
    "\n",
    "es = edit_simpliciality(H, min_size=min_size)\n",
    "\n",
    "#fes = face_edit_simpliciality(H, min_size=min_size)\n",
    "#sf = simplicial_fraction(H, min_size=min_size)\n",
    "print(es)\n",
    "\n",
    "H = edge_rewiring.rewire_Alg1(H, min_size=min_size)\n",
    "# H.cleanup(singletons=True)\n",
    "\n",
    "es = edit_simpliciality(H, min_size=min_size)\n",
    "\n",
    "# fes = face_edit_simpliciality(H, min_size=min_size)\n",
    "# sf = simplicial_fraction(H, min_size=min_size)\n",
    "print(es)"
   ]
  },
  {
   "cell_type": "code",
   "execution_count": null,
   "id": "5ffc7961",
   "metadata": {},
   "outputs": [],
   "source": []
  }
 ],
 "metadata": {
  "kernelspec": {
   "display_name": "Python 3",
   "language": "python",
   "name": "python3"
  },
  "language_info": {
   "codemirror_mode": {
    "name": "ipython",
    "version": 3
   },
   "file_extension": ".py",
   "mimetype": "text/x-python",
   "name": "python",
   "nbconvert_exporter": "python",
   "pygments_lexer": "ipython3",
   "version": "3.10.0"
  }
 },
 "nbformat": 4,
 "nbformat_minor": 5
}
