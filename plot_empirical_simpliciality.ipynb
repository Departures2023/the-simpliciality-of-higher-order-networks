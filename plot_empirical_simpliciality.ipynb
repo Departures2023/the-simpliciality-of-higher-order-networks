{
 "cells": [
  {
   "cell_type": "code",
   "execution_count": null,
   "metadata": {},
   "outputs": [],
   "source": [
    "import json\n",
    "import os\n",
    "\n",
    "import matplotlib.pyplot as plt\n",
    "import numpy as np\n",
    "from matplotlib import rcParams\n",
    "from scipy.stats import spearmanr"
   ]
  },
  {
   "cell_type": "code",
   "execution_count": null,
   "metadata": {},
   "outputs": [],
   "source": [
    "if not os.path.exists(\"Data\"):\n",
    "    os.mkdir(\"Data\")\n",
    "if not os.path.exists(\"Figures\"):\n",
    "    os.mkdir(\"Figures\")"
   ]
  },
  {
   "cell_type": "code",
   "execution_count": null,
   "metadata": {},
   "outputs": [],
   "source": [
    "datasets = [\n",
    "    \"contact-primary-school\",\n",
    "    \"contact-high-school\",\n",
    "    \"hospital-lyon\",\n",
    "    \"email-enron\",\n",
    "    \"email-eu\",\n",
    "    \"diseasome\",\n",
    "    \"disgenenet\",\n",
    "    \"ndc-substances\",\n",
    "    \"congress-bills\",\n",
    "    \"tags-ask-ubuntu\",\n",
    "]\n",
    "\n",
    "min_size = 2"
   ]
  },
  {
   "cell_type": "code",
   "execution_count": null,
   "metadata": {},
   "outputs": [],
   "source": [
    "with open(f\"Data/empirical_simpliciality.json\", \"r\") as file:\n",
    "    data = json.loads(file.read())"
   ]
  },
  {
   "cell_type": "code",
   "execution_count": null,
   "metadata": {},
   "outputs": [],
   "source": [
    "print(\"Simplicial Fraction\")\n",
    "print(\"\\n\".join([str(d) + \": \" + str(round(data[d][\"sf\"], 4)) for d in datasets]))\n",
    "\n",
    "print(\"\\nEdit Simpliciality\")\n",
    "print(\"\\n\".join([str(d) + \": \" + str(round(data[d][\"es\"], 4)) for d in datasets]))\n",
    "\n",
    "print(\"\\nFace Edit Simpliciality\")\n",
    "print(\"\\n\".join([str(d) + \": \" + str(round(data[d][\"fes\"], 4)) for d in datasets]))"
   ]
  },
  {
   "cell_type": "code",
   "execution_count": null,
   "metadata": {},
   "outputs": [],
   "source": [
    "# plot\n",
    "plt.figure(figsize=(8, 6), dpi=200)\n",
    "rcParams[\"font.family\"] = \"sans-serif\"\n",
    "rcParams[\"font.sans-serif\"] = [\"Tahoma\", \"DejaVu Sans\", \"Lucida Grande\", \"Verdana\"]\n",
    "rcParams[\"font.size\"] = 16\n",
    "\n",
    "color_palette = [\"#59C6DA\", \"#5986DA\", \"#59DAAD\"]\n",
    "\n",
    "datasets_rev = datasets[::-1]\n",
    "sf = [data[d][\"sf\"] for d in datasets_rev]\n",
    "es = [data[d][\"es\"] for d in datasets_rev]\n",
    "fes = [data[d][\"fes\"] for d in datasets_rev]\n",
    "\n",
    "for i in range(len(datasets)):\n",
    "    plt.plot([0, 1], [i, i], linestyle=(1, (1, 10)), linewidth=0.5, color=\"black\")\n",
    "\n",
    "plt.plot(sf, datasets, marker=\"s\", linestyle=\"\", color=color_palette[0], label=\"SF\")\n",
    "plt.plot(es, datasets, marker=\"d\", linestyle=\"\", color=color_palette[1], label=\"ES\")\n",
    "plt.plot(fes, datasets, marker=\"o\", linestyle=\"\", color=color_palette[2], label=\"FES\")\n",
    "\n",
    "plt.xlabel(\"Simpliciality\")\n",
    "plt.xlim([-0.0, 1.0])\n",
    "plt.ylim([-0.5, len(datasets) - 0.5])\n",
    "plt.legend()\n",
    "plt.tight_layout()\n",
    "\n",
    "plt.savefig(\"Figures/FigX/empirical_simpliciality.png\", dpi=1000)\n",
    "plt.savefig(\"Figures/FigX/empirical_simpliciality.pdf\", dpi=1000)\n",
    "plt.show()"
   ]
  },
  {
   "cell_type": "code",
   "execution_count": null,
   "metadata": {},
   "outputs": [],
   "source": []
  }
 ],
 "metadata": {
  "kernelspec": {
   "display_name": "hyper",
   "language": "python",
   "name": "python3"
  },
  "language_info": {
   "codemirror_mode": {
    "name": "ipython",
    "version": 3
   },
   "file_extension": ".py",
   "mimetype": "text/x-python",
   "name": "python",
   "nbconvert_exporter": "python",
   "pygments_lexer": "ipython3",
   "version": "3.10.0"
  },
  "orig_nbformat": 4
 },
 "nbformat": 4,
 "nbformat_minor": 2
}
